{
 "cells": [
  {
   "cell_type": "code",
   "execution_count": 17,
   "metadata": {},
   "outputs": [
    {
     "name": "stdout",
     "output_type": "stream",
     "text": [
      "1.5\n"
     ]
    }
   ],
   "source": [
    "a = (21.5 % 4)\n",
    "print(a)"
   ]
  },
  {
   "cell_type": "code",
   "execution_count": 10,
   "metadata": {},
   "outputs": [
    {
     "data": {
      "text/plain": [
       "float"
      ]
     },
     "execution_count": 10,
     "metadata": {},
     "output_type": "execute_result"
    }
   ],
   "source": [
    "type(a)"
   ]
  },
  {
   "cell_type": "code",
   "execution_count": 3,
   "metadata": {},
   "outputs": [
    {
     "name": "stdout",
     "output_type": "stream",
     "text": [
      "Acabou:  4\n"
     ]
    }
   ],
   "source": [
    "a = input(\"Digite o valor:\")\n",
    "a = int(a)\n",
    "\n",
    "if a%2 == 0:\n",
    "    print(\"Par!\")\n",
    "a = a + 1\n",
    "\n",
    "print(\"Acabou: \", a)\n",
    "\n"
   ]
  },
  {
   "cell_type": "code",
   "execution_count": 12,
   "metadata": {},
   "outputs": [
    {
     "name": "stdout",
     "output_type": "stream",
     "text": [
      "False <class 'bool'>\n"
     ]
    }
   ],
   "source": [
    "\n",
    "a = True\n",
    "print(not a, type(a))"
   ]
  },
  {
   "cell_type": "code",
   "execution_count": 14,
   "metadata": {},
   "outputs": [
    {
     "name": "stdout",
     "output_type": "stream",
     "text": [
      "Conceito A\n",
      "Conceito F\n"
     ]
    }
   ],
   "source": [
    "nota = float(input('Digite a nota: '))\n",
    "if nota >= 90:\n",
    "\tprint('Conceito A')\n",
    "elif nota >= 80 and nota < 90:\n",
    "\tprint('Conceito B')\n",
    "if nota >= 70 and nota < 80:\n",
    "\tprint('Conceito C')\n",
    "if nota >= 60 and nota < 70:\n",
    "\tprint('Conceito D')\n",
    "if nota < 60:\n",
    "\tprint('Conceito F')"
   ]
  },
  {
   "cell_type": "code",
   "execution_count": 1,
   "metadata": {},
   "outputs": [
    {
     "ename": "NameError",
     "evalue": "name 'y' is not defined",
     "output_type": "error",
     "traceback": [
      "\u001b[1;31m---------------------------------------------------------------------------\u001b[0m",
      "\u001b[1;31mNameError\u001b[0m                                 Traceback (most recent call last)",
      "\u001b[1;32m~\\AppData\\Local\\Temp\\ipykernel_1544\\3221991543.py\u001b[0m in \u001b[0;36m<module>\u001b[1;34m\u001b[0m\n\u001b[0;32m      6\u001b[0m     \u001b[1;32mreturn\u001b[0m \u001b[1;36m0\u001b[0m\u001b[1;33m\u001b[0m\u001b[1;33m\u001b[0m\u001b[0m\n\u001b[0;32m      7\u001b[0m \u001b[1;33m\u001b[0m\u001b[0m\n\u001b[1;32m----> 8\u001b[1;33m \u001b[0mprint\u001b[0m\u001b[1;33m(\u001b[0m\u001b[1;34m\"y:\"\u001b[0m\u001b[1;33m,\u001b[0m \u001b[0my\u001b[0m\u001b[1;33m)\u001b[0m\u001b[1;33m\u001b[0m\u001b[1;33m\u001b[0m\u001b[0m\n\u001b[0m\u001b[0;32m      9\u001b[0m \u001b[0my1\u001b[0m \u001b[1;33m=\u001b[0m \u001b[0meq_2_grau\u001b[0m\u001b[1;33m(\u001b[0m\u001b[1;36m100\u001b[0m\u001b[1;33m,\u001b[0m \u001b[1;33m-\u001b[0m\u001b[1;36m1\u001b[0m\u001b[1;33m,\u001b[0m \u001b[1;36m3\u001b[0m\u001b[1;33m,\u001b[0m \u001b[1;36m19\u001b[0m\u001b[1;33m)\u001b[0m\u001b[1;33m\u001b[0m\u001b[1;33m\u001b[0m\u001b[0m\n\u001b[0;32m     10\u001b[0m \u001b[0mprint\u001b[0m\u001b[1;33m(\u001b[0m\u001b[1;34m\"Valor de y:\"\u001b[0m\u001b[1;33m,\u001b[0m \u001b[0my1\u001b[0m\u001b[1;33m)\u001b[0m\u001b[1;33m\u001b[0m\u001b[1;33m\u001b[0m\u001b[0m\n",
      "\u001b[1;31mNameError\u001b[0m: name 'y' is not defined"
     ]
    }
   ],
   "source": [
    "def eq_2_grau(x, a, b, c):\n",
    "    y = a*(x**2) + b*x + c\n",
    "    print(\"y:\", y)\n",
    "    if(y > 0):\n",
    "        return y\n",
    "    return 0\n",
    "\n",
    "y = 2\n",
    "print(\"y:\", y)\n",
    "y1 = eq_2_grau(100, -1, 3, 19)\n",
    "print(\"Valor de y:\", y1)\n",
    "\n",
    "\n",
    "    "
   ]
  },
  {
   "cell_type": "code",
   "execution_count": 19,
   "metadata": {},
   "outputs": [
    {
     "ename": "ValueError",
     "evalue": "invalid literal for int() with base 10: 'alo'",
     "output_type": "error",
     "traceback": [
      "\u001b[1;31m---------------------------------------------------------------------------\u001b[0m",
      "\u001b[1;31mValueError\u001b[0m                                Traceback (most recent call last)",
      "\u001b[1;32m~\\AppData\\Local\\Temp\\ipykernel_25424\\2888813317.py\u001b[0m in \u001b[0;36m<module>\u001b[1;34m\u001b[0m\n\u001b[0;32m      4\u001b[0m     \u001b[1;32mreturn\u001b[0m \u001b[0mvalor_int\u001b[0m\u001b[1;33m\u001b[0m\u001b[1;33m\u001b[0m\u001b[0m\n\u001b[0;32m      5\u001b[0m \u001b[1;33m\u001b[0m\u001b[0m\n\u001b[1;32m----> 6\u001b[1;33m \u001b[0ma\u001b[0m \u001b[1;33m=\u001b[0m \u001b[0minput_int\u001b[0m\u001b[1;33m(\u001b[0m\u001b[1;34m\"Digite o valor:\"\u001b[0m\u001b[1;33m)\u001b[0m\u001b[1;33m\u001b[0m\u001b[1;33m\u001b[0m\u001b[0m\n\u001b[0m\u001b[0;32m      7\u001b[0m \u001b[0mprint\u001b[0m\u001b[1;33m(\u001b[0m\u001b[0ma\u001b[0m\u001b[1;33m,\u001b[0m \u001b[0mtype\u001b[0m\u001b[1;33m(\u001b[0m\u001b[0ma\u001b[0m\u001b[1;33m)\u001b[0m\u001b[1;33m)\u001b[0m\u001b[1;33m\u001b[0m\u001b[1;33m\u001b[0m\u001b[0m\n",
      "\u001b[1;32m~\\AppData\\Local\\Temp\\ipykernel_25424\\2888813317.py\u001b[0m in \u001b[0;36minput_int\u001b[1;34m(texto_usuario)\u001b[0m\n\u001b[0;32m      1\u001b[0m \u001b[1;32mdef\u001b[0m \u001b[0minput_int\u001b[0m\u001b[1;33m(\u001b[0m\u001b[0mtexto_usuario\u001b[0m\u001b[1;33m)\u001b[0m\u001b[1;33m:\u001b[0m\u001b[1;33m\u001b[0m\u001b[1;33m\u001b[0m\u001b[0m\n\u001b[0;32m      2\u001b[0m     \u001b[0mvalor\u001b[0m \u001b[1;33m=\u001b[0m \u001b[0minput\u001b[0m\u001b[1;33m(\u001b[0m\u001b[0mtexto_usuario\u001b[0m\u001b[1;33m)\u001b[0m\u001b[1;33m\u001b[0m\u001b[1;33m\u001b[0m\u001b[0m\n\u001b[1;32m----> 3\u001b[1;33m     \u001b[0mvalor_int\u001b[0m \u001b[1;33m=\u001b[0m \u001b[0mint\u001b[0m\u001b[1;33m(\u001b[0m\u001b[0mvalor\u001b[0m\u001b[1;33m)\u001b[0m\u001b[1;33m\u001b[0m\u001b[1;33m\u001b[0m\u001b[0m\n\u001b[0m\u001b[0;32m      4\u001b[0m     \u001b[1;32mreturn\u001b[0m \u001b[0mvalor_int\u001b[0m\u001b[1;33m\u001b[0m\u001b[1;33m\u001b[0m\u001b[0m\n\u001b[0;32m      5\u001b[0m \u001b[1;33m\u001b[0m\u001b[0m\n",
      "\u001b[1;31mValueError\u001b[0m: invalid literal for int() with base 10: 'alo'"
     ]
    }
   ],
   "source": [
    "def input_int(texto_usuario):\n",
    "    valor = input(texto_usuario)\n",
    "    valor_int = int(valor)\n",
    "    return valor_int\n",
    "\n",
    "a = input_int(\"Digite o valor:\")\n",
    "print(a, type(a))"
   ]
  },
  {
   "cell_type": "code",
   "execution_count": 9,
   "metadata": {},
   "outputs": [
    {
     "name": "stdout",
     "output_type": "stream",
     "text": [
      "3\n",
      "4\n"
     ]
    }
   ],
   "source": [
    "\n",
    "\n",
    "def teste():\n",
    "    global aux\n",
    "    print(aux)\n",
    "    aux = aux + 1\n",
    "\n",
    "aux = 2\n",
    "aux = aux +1\n",
    "teste()\n",
    "print(aux)\n"
   ]
  },
  {
   "cell_type": "code",
   "execution_count": null,
   "metadata": {},
   "outputs": [],
   "source": []
  },
  {
   "cell_type": "code",
   "execution_count": 12,
   "metadata": {},
   "outputs": [
    {
     "name": "stdout",
     "output_type": "stream",
     "text": [
      "Valor de y: -9681\n"
     ]
    }
   ],
   "source": [
    "y1 = eq_2_grau(100, -1, 3, 19)\n",
    "print(\"Valor de y:\", y1)\n"
   ]
  },
  {
   "cell_type": "code",
   "execution_count": 3,
   "metadata": {},
   "outputs": [
    {
     "name": "stdout",
     "output_type": "stream",
     "text": [
      "800\n"
     ]
    }
   ],
   "source": [
    "#import math\n",
    "from math import sqrt\n",
    "\n",
    "def sqrt(x):\n",
    "    return x*2\n",
    "\n",
    "a = sqrt(400)\n",
    "print(a)"
   ]
  },
  {
   "cell_type": "code",
   "execution_count": 5,
   "metadata": {},
   "outputs": [
    {
     "name": "stdout",
     "output_type": "stream",
     "text": [
      "2\n",
      "10\n"
     ]
    }
   ],
   "source": [
    "lista_valores = [1, 2, 5, 10]\n",
    "#lista_valores = [\"Pedro\", \"Olmo\", \"Stancioli\"]\n",
    "for valor in lista_valores:\n",
    "    if valor%2 == 0:\n",
    "        print(valor)"
   ]
  },
  {
   "cell_type": "code",
   "execution_count": 2,
   "metadata": {},
   "outputs": [
    {
     "name": "stdout",
     "output_type": "stream",
     "text": [
      "0\n",
      "2\n",
      "4\n",
      "6\n",
      "8\n"
     ]
    }
   ],
   "source": [
    "\n",
    "def teto(x):\n",
    "    parte_fracionaria = x - int(x)\n",
    "    parte_inteira = int(x)\n",
    "    caminhao_extra = 0\n",
    "    if(parte_fracionaria > 0):\n",
    "        caminhao_extra = 1\n",
    "    return caminhao_extra + parte_inteira\n",
    "\n",
    "def ehPar(x):\n",
    "    if x%2 == 0:\n",
    "        return True\n",
    "    return False\n",
    "\n",
    "def imprime_pares(n):\n",
    "    for valor in range(n):\n",
    "        if ehPar(valor):\n",
    "            print(valor)\n",
    "\n",
    "n = int(input(\"Digite o valor de n:\"))\n",
    "imprime_pares(n)\n"
   ]
  },
  {
   "cell_type": "code",
   "execution_count": 4,
   "metadata": {},
   "outputs": [
    {
     "name": "stdout",
     "output_type": "stream",
     "text": [
      "900001\n"
     ]
    }
   ],
   "source": [
    "lista_valores = [7, -1, 188, 14, 1000, -235, 234, 900001, 34884]\n",
    "maior_valor = max(lista_valores)\n",
    "print(maior_valor)"
   ]
  },
  {
   "cell_type": "code",
   "execution_count": 5,
   "metadata": {},
   "outputs": [
    {
     "name": "stdout",
     "output_type": "stream",
     "text": [
      "9\n"
     ]
    }
   ],
   "source": [
    "tam = len(lista_valores)\n",
    "print(tam)"
   ]
  },
  {
   "cell_type": "code",
   "execution_count": 2,
   "metadata": {},
   "outputs": [
    {
     "name": "stdout",
     "output_type": "stream",
     "text": [
      "Valor atual: 7\n",
      "Atual maior valor: -99999999\n",
      "7\n",
      "Valor atual: -1\n",
      "Atual maior valor: 7\n",
      "Valor atual: 188\n",
      "Atual maior valor: 7\n",
      "188\n",
      "Valor atual: 14\n",
      "Atual maior valor: 188\n",
      "Valor atual: 1000\n",
      "Atual maior valor: 188\n",
      "1000\n",
      "Valor atual: -235\n",
      "Atual maior valor: 1000\n",
      "Valor atual: 234\n",
      "Atual maior valor: 1000\n",
      "Valor atual: 900002\n",
      "Atual maior valor: 1000\n",
      "900002\n",
      "Valor atual: 34884\n",
      "Atual maior valor: 900002\n"
     ]
    }
   ],
   "source": [
    "maior_valor = -99999999\n",
    "for valor in lista_valores:\n",
    "    print(\"Valor atual:\", valor)\n",
    "    print(\"Atual maior valor:\", maior_valor)    \n",
    "    if(valor > maior_valor):\n",
    "        maior_valor = valor\n",
    "        print(maior_valor)"
   ]
  },
  {
   "cell_type": "code",
   "execution_count": 7,
   "metadata": {},
   "outputs": [
    {
     "name": "stdout",
     "output_type": "stream",
     "text": [
      "411\n"
     ]
    }
   ],
   "source": [
    "n = int(input(\"Digite n:\"))\n",
    "cont = 0\n",
    "for valor in range(3, n+1):\n",
    "    if(valor % 3 == 0):\n",
    "        cont = cont + 1\n",
    "\n",
    "print(cont)"
   ]
  },
  {
   "cell_type": "code",
   "execution_count": 9,
   "metadata": {},
   "outputs": [
    {
     "name": "stdout",
     "output_type": "stream",
     "text": [
      "Fatorial de 5 -> 120\n"
     ]
    }
   ],
   "source": [
    "def fatorial(n):\n",
    "    if(n == 0):\n",
    "        return 1\n",
    "    fat = 1\n",
    "    while(n >= 1):\n",
    "        fat = fat * n\n",
    "        n = n - 1\n",
    "    return fat\n",
    "\n",
    "def fatorial_v2(n):\n",
    "    \n",
    "    if(n == 0):\n",
    "        return 1\n",
    "    valor = 1\n",
    "    fat = 1\n",
    "    while(valor <= n):\n",
    "        fat = fat * valor\n",
    "        valor = valor + 1\n",
    "    return fat\n",
    "\n",
    "def fatorial_v3(n):\n",
    "    if n==0:\n",
    "        return 1\n",
    "    \n",
    "    fat = 1\n",
    "    for valor in range(1, n+1):\n",
    "        fat = fat * valor\n",
    "    return fat\n",
    "\n",
    "\n",
    "    \n",
    "n = int(input(\"Digite n:\"))\n",
    "print(\"Fatorial de\", n, \"->\", fatorial(n))"
   ]
  },
  {
   "cell_type": "code",
   "execution_count": 13,
   "metadata": {},
   "outputs": [
    {
     "name": "stdout",
     "output_type": "stream",
     "text": [
      "*o**\n"
     ]
    }
   ],
   "source": [
    "def tamStr(texto):\n",
    "\n",
    "    cont = 0\n",
    "    for letra in texto:\n",
    "        cont = cont + 1\n",
    "    return cont\n",
    "  \n",
    "\n",
    "def compara(secreta, tentativa):\n",
    "    tam_palavra = tamStr(secreta)\n",
    "    retorno = '' \n",
    "    for pos_letra in range(0, tam_palavra):\n",
    "        if secreta[pos_letra] == tentativa[pos_letra]:\n",
    "            retorno = retorno + secreta[pos_letra]\n",
    "        else:\n",
    "            retorno = retorno + '*'\n",
    "\n",
    "    return retorno\n",
    "\n",
    "p1 = \"Bola\"\n",
    "p2 = \"Voce\"\n",
    "print(compara(p1, p2))\n"
   ]
  },
  {
   "cell_type": "code",
   "execution_count": 15,
   "metadata": {},
   "outputs": [
    {
     "name": "stdout",
     "output_type": "stream",
     "text": [
      "****\n"
     ]
    }
   ],
   "source": [
    "melhor_tentativa = compara('Bola', '****')\n",
    "print(melhor_tentativa)"
   ]
  },
  {
   "cell_type": "code",
   "execution_count": 10,
   "metadata": {},
   "outputs": [
    {
     "name": "stdout",
     "output_type": "stream",
     "text": [
      "oi tudo, bem?\n"
     ]
    }
   ],
   "source": [
    "s = 'oi'\n",
    "s = s + ' tudo, bem?'\n",
    "print(s)"
   ]
  },
  {
   "cell_type": "code",
   "execution_count": null,
   "metadata": {},
   "outputs": [],
   "source": []
  }
 ],
 "metadata": {
  "kernelspec": {
   "display_name": "base",
   "language": "python",
   "name": "python3"
  },
  "language_info": {
   "codemirror_mode": {
    "name": "ipython",
    "version": 3
   },
   "file_extension": ".py",
   "mimetype": "text/x-python",
   "name": "python",
   "nbconvert_exporter": "python",
   "pygments_lexer": "ipython3",
   "version": "3.9.13"
  }
 },
 "nbformat": 4,
 "nbformat_minor": 2
}
