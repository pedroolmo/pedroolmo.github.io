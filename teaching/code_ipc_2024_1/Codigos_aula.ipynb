{
 "cells": [
  {
   "cell_type": "code",
   "execution_count": 17,
   "metadata": {},
   "outputs": [
    {
     "name": "stdout",
     "output_type": "stream",
     "text": [
      "1.5\n"
     ]
    }
   ],
   "source": [
    "a = (21.5 % 4)\n",
    "print(a)"
   ]
  },
  {
   "cell_type": "code",
   "execution_count": 10,
   "metadata": {},
   "outputs": [
    {
     "data": {
      "text/plain": [
       "float"
      ]
     },
     "execution_count": 10,
     "metadata": {},
     "output_type": "execute_result"
    }
   ],
   "source": [
    "type(a)"
   ]
  },
  {
   "cell_type": "code",
   "execution_count": 3,
   "metadata": {},
   "outputs": [
    {
     "name": "stdout",
     "output_type": "stream",
     "text": [
      "Acabou:  4\n"
     ]
    }
   ],
   "source": [
    "a = input(\"Digite o valor:\")\n",
    "a = int(a)\n",
    "\n",
    "if a%2 == 0:\n",
    "    print(\"Par!\")\n",
    "a = a + 1\n",
    "\n",
    "print(\"Acabou: \", a)\n",
    "\n"
   ]
  },
  {
   "cell_type": "code",
   "execution_count": 12,
   "metadata": {},
   "outputs": [
    {
     "name": "stdout",
     "output_type": "stream",
     "text": [
      "False <class 'bool'>\n"
     ]
    }
   ],
   "source": [
    "\n",
    "a = True\n",
    "print(not a, type(a))"
   ]
  },
  {
   "cell_type": "code",
   "execution_count": 14,
   "metadata": {},
   "outputs": [
    {
     "name": "stdout",
     "output_type": "stream",
     "text": [
      "Conceito A\n",
      "Conceito F\n"
     ]
    }
   ],
   "source": [
    "nota = float(input('Digite a nota: '))\n",
    "if nota >= 90:\n",
    "\tprint('Conceito A')\n",
    "elif nota >= 80 and nota < 90:\n",
    "\tprint('Conceito B')\n",
    "if nota >= 70 and nota < 80:\n",
    "\tprint('Conceito C')\n",
    "if nota >= 60 and nota < 70:\n",
    "\tprint('Conceito D')\n",
    "if nota < 60:\n",
    "\tprint('Conceito F')"
   ]
  },
  {
   "cell_type": "code",
   "execution_count": 1,
   "metadata": {},
   "outputs": [
    {
     "ename": "NameError",
     "evalue": "name 'y' is not defined",
     "output_type": "error",
     "traceback": [
      "\u001b[1;31m---------------------------------------------------------------------------\u001b[0m",
      "\u001b[1;31mNameError\u001b[0m                                 Traceback (most recent call last)",
      "\u001b[1;32m~\\AppData\\Local\\Temp\\ipykernel_1544\\3221991543.py\u001b[0m in \u001b[0;36m<module>\u001b[1;34m\u001b[0m\n\u001b[0;32m      6\u001b[0m     \u001b[1;32mreturn\u001b[0m \u001b[1;36m0\u001b[0m\u001b[1;33m\u001b[0m\u001b[1;33m\u001b[0m\u001b[0m\n\u001b[0;32m      7\u001b[0m \u001b[1;33m\u001b[0m\u001b[0m\n\u001b[1;32m----> 8\u001b[1;33m \u001b[0mprint\u001b[0m\u001b[1;33m(\u001b[0m\u001b[1;34m\"y:\"\u001b[0m\u001b[1;33m,\u001b[0m \u001b[0my\u001b[0m\u001b[1;33m)\u001b[0m\u001b[1;33m\u001b[0m\u001b[1;33m\u001b[0m\u001b[0m\n\u001b[0m\u001b[0;32m      9\u001b[0m \u001b[0my1\u001b[0m \u001b[1;33m=\u001b[0m \u001b[0meq_2_grau\u001b[0m\u001b[1;33m(\u001b[0m\u001b[1;36m100\u001b[0m\u001b[1;33m,\u001b[0m \u001b[1;33m-\u001b[0m\u001b[1;36m1\u001b[0m\u001b[1;33m,\u001b[0m \u001b[1;36m3\u001b[0m\u001b[1;33m,\u001b[0m \u001b[1;36m19\u001b[0m\u001b[1;33m)\u001b[0m\u001b[1;33m\u001b[0m\u001b[1;33m\u001b[0m\u001b[0m\n\u001b[0;32m     10\u001b[0m \u001b[0mprint\u001b[0m\u001b[1;33m(\u001b[0m\u001b[1;34m\"Valor de y:\"\u001b[0m\u001b[1;33m,\u001b[0m \u001b[0my1\u001b[0m\u001b[1;33m)\u001b[0m\u001b[1;33m\u001b[0m\u001b[1;33m\u001b[0m\u001b[0m\n",
      "\u001b[1;31mNameError\u001b[0m: name 'y' is not defined"
     ]
    }
   ],
   "source": [
    "def eq_2_grau(x, a, b, c):\n",
    "    y = a*(x**2) + b*x + c\n",
    "    print(\"y:\", y)\n",
    "    if(y > 0):\n",
    "        return y\n",
    "    return 0\n",
    "\n",
    "y = 2\n",
    "print(\"y:\", y)\n",
    "y1 = eq_2_grau(100, -1, 3, 19)\n",
    "print(\"Valor de y:\", y1)\n",
    "\n",
    "\n",
    "    "
   ]
  },
  {
   "cell_type": "code",
   "execution_count": 19,
   "metadata": {},
   "outputs": [
    {
     "ename": "ValueError",
     "evalue": "invalid literal for int() with base 10: 'alo'",
     "output_type": "error",
     "traceback": [
      "\u001b[1;31m---------------------------------------------------------------------------\u001b[0m",
      "\u001b[1;31mValueError\u001b[0m                                Traceback (most recent call last)",
      "\u001b[1;32m~\\AppData\\Local\\Temp\\ipykernel_25424\\2888813317.py\u001b[0m in \u001b[0;36m<module>\u001b[1;34m\u001b[0m\n\u001b[0;32m      4\u001b[0m     \u001b[1;32mreturn\u001b[0m \u001b[0mvalor_int\u001b[0m\u001b[1;33m\u001b[0m\u001b[1;33m\u001b[0m\u001b[0m\n\u001b[0;32m      5\u001b[0m \u001b[1;33m\u001b[0m\u001b[0m\n\u001b[1;32m----> 6\u001b[1;33m \u001b[0ma\u001b[0m \u001b[1;33m=\u001b[0m \u001b[0minput_int\u001b[0m\u001b[1;33m(\u001b[0m\u001b[1;34m\"Digite o valor:\"\u001b[0m\u001b[1;33m)\u001b[0m\u001b[1;33m\u001b[0m\u001b[1;33m\u001b[0m\u001b[0m\n\u001b[0m\u001b[0;32m      7\u001b[0m \u001b[0mprint\u001b[0m\u001b[1;33m(\u001b[0m\u001b[0ma\u001b[0m\u001b[1;33m,\u001b[0m \u001b[0mtype\u001b[0m\u001b[1;33m(\u001b[0m\u001b[0ma\u001b[0m\u001b[1;33m)\u001b[0m\u001b[1;33m)\u001b[0m\u001b[1;33m\u001b[0m\u001b[1;33m\u001b[0m\u001b[0m\n",
      "\u001b[1;32m~\\AppData\\Local\\Temp\\ipykernel_25424\\2888813317.py\u001b[0m in \u001b[0;36minput_int\u001b[1;34m(texto_usuario)\u001b[0m\n\u001b[0;32m      1\u001b[0m \u001b[1;32mdef\u001b[0m \u001b[0minput_int\u001b[0m\u001b[1;33m(\u001b[0m\u001b[0mtexto_usuario\u001b[0m\u001b[1;33m)\u001b[0m\u001b[1;33m:\u001b[0m\u001b[1;33m\u001b[0m\u001b[1;33m\u001b[0m\u001b[0m\n\u001b[0;32m      2\u001b[0m     \u001b[0mvalor\u001b[0m \u001b[1;33m=\u001b[0m \u001b[0minput\u001b[0m\u001b[1;33m(\u001b[0m\u001b[0mtexto_usuario\u001b[0m\u001b[1;33m)\u001b[0m\u001b[1;33m\u001b[0m\u001b[1;33m\u001b[0m\u001b[0m\n\u001b[1;32m----> 3\u001b[1;33m     \u001b[0mvalor_int\u001b[0m \u001b[1;33m=\u001b[0m \u001b[0mint\u001b[0m\u001b[1;33m(\u001b[0m\u001b[0mvalor\u001b[0m\u001b[1;33m)\u001b[0m\u001b[1;33m\u001b[0m\u001b[1;33m\u001b[0m\u001b[0m\n\u001b[0m\u001b[0;32m      4\u001b[0m     \u001b[1;32mreturn\u001b[0m \u001b[0mvalor_int\u001b[0m\u001b[1;33m\u001b[0m\u001b[1;33m\u001b[0m\u001b[0m\n\u001b[0;32m      5\u001b[0m \u001b[1;33m\u001b[0m\u001b[0m\n",
      "\u001b[1;31mValueError\u001b[0m: invalid literal for int() with base 10: 'alo'"
     ]
    }
   ],
   "source": [
    "def input_int(texto_usuario):\n",
    "    valor = input(texto_usuario)\n",
    "    valor_int = int(valor)\n",
    "    return valor_int\n",
    "\n",
    "a = input_int(\"Digite o valor:\")\n",
    "print(a, type(a))"
   ]
  },
  {
   "cell_type": "code",
   "execution_count": 9,
   "metadata": {},
   "outputs": [
    {
     "name": "stdout",
     "output_type": "stream",
     "text": [
      "3\n",
      "4\n"
     ]
    }
   ],
   "source": [
    "\n",
    "\n",
    "def teste():\n",
    "    global aux\n",
    "    print(aux)\n",
    "    aux = aux + 1\n",
    "\n",
    "aux = 2\n",
    "aux = aux +1\n",
    "teste()\n",
    "print(aux)\n"
   ]
  },
  {
   "cell_type": "code",
   "execution_count": null,
   "metadata": {},
   "outputs": [],
   "source": []
  },
  {
   "cell_type": "code",
   "execution_count": 12,
   "metadata": {},
   "outputs": [
    {
     "name": "stdout",
     "output_type": "stream",
     "text": [
      "Valor de y: -9681\n"
     ]
    }
   ],
   "source": [
    "y1 = eq_2_grau(100, -1, 3, 19)\n",
    "print(\"Valor de y:\", y1)\n"
   ]
  },
  {
   "cell_type": "code",
   "execution_count": 3,
   "metadata": {},
   "outputs": [
    {
     "name": "stdout",
     "output_type": "stream",
     "text": [
      "800\n"
     ]
    }
   ],
   "source": [
    "#import math\n",
    "from math import sqrt\n",
    "\n",
    "def sqrt(x):\n",
    "    return x*2\n",
    "\n",
    "a = sqrt(400)\n",
    "print(a)"
   ]
  },
  {
   "cell_type": "code",
   "execution_count": 5,
   "metadata": {},
   "outputs": [
    {
     "name": "stdout",
     "output_type": "stream",
     "text": [
      "2\n",
      "10\n"
     ]
    }
   ],
   "source": [
    "lista_valores = [1, 2, 5, 10]\n",
    "#lista_valores = [\"Pedro\", \"Olmo\", \"Stancioli\"]\n",
    "for valor in lista_valores:\n",
    "    if valor%2 == 0:\n",
    "        print(valor)"
   ]
  },
  {
   "cell_type": "code",
   "execution_count": 2,
   "metadata": {},
   "outputs": [
    {
     "name": "stdout",
     "output_type": "stream",
     "text": [
      "0\n",
      "2\n",
      "4\n",
      "6\n",
      "8\n"
     ]
    }
   ],
   "source": [
    "\n",
    "def teto(x):\n",
    "    parte_fracionaria = x - int(x)\n",
    "    parte_inteira = int(x)\n",
    "    caminhao_extra = 0\n",
    "    if(parte_fracionaria > 0):\n",
    "        caminhao_extra = 1\n",
    "    return caminhao_extra + parte_inteira\n",
    "\n",
    "def ehPar(x):\n",
    "    if x%2 == 0:\n",
    "        return True\n",
    "    return False\n",
    "\n",
    "def imprime_pares(n):\n",
    "    for valor in range(n):\n",
    "        if ehPar(valor):\n",
    "            print(valor)\n",
    "\n",
    "n = int(input(\"Digite o valor de n:\"))\n",
    "imprime_pares(n)\n"
   ]
  },
  {
   "cell_type": "code",
   "execution_count": 4,
   "metadata": {},
   "outputs": [
    {
     "name": "stdout",
     "output_type": "stream",
     "text": [
      "900001\n"
     ]
    }
   ],
   "source": [
    "lista_valores = [7, -1, 188, 14, 1000, -235, 234, 900001, 34884]\n",
    "maior_valor = max(lista_valores)\n",
    "print(maior_valor)"
   ]
  },
  {
   "cell_type": "code",
   "execution_count": 5,
   "metadata": {},
   "outputs": [
    {
     "name": "stdout",
     "output_type": "stream",
     "text": [
      "9\n"
     ]
    }
   ],
   "source": [
    "tam = len(lista_valores)\n",
    "print(tam)"
   ]
  },
  {
   "cell_type": "code",
   "execution_count": 2,
   "metadata": {},
   "outputs": [
    {
     "name": "stdout",
     "output_type": "stream",
     "text": [
      "Valor atual: 7\n",
      "Atual maior valor: -99999999\n",
      "7\n",
      "Valor atual: -1\n",
      "Atual maior valor: 7\n",
      "Valor atual: 188\n",
      "Atual maior valor: 7\n",
      "188\n",
      "Valor atual: 14\n",
      "Atual maior valor: 188\n",
      "Valor atual: 1000\n",
      "Atual maior valor: 188\n",
      "1000\n",
      "Valor atual: -235\n",
      "Atual maior valor: 1000\n",
      "Valor atual: 234\n",
      "Atual maior valor: 1000\n",
      "Valor atual: 900002\n",
      "Atual maior valor: 1000\n",
      "900002\n",
      "Valor atual: 34884\n",
      "Atual maior valor: 900002\n"
     ]
    }
   ],
   "source": [
    "maior_valor = -99999999\n",
    "for valor in lista_valores:\n",
    "    print(\"Valor atual:\", valor)\n",
    "    print(\"Atual maior valor:\", maior_valor)    \n",
    "    if(valor > maior_valor):\n",
    "        maior_valor = valor\n",
    "        print(maior_valor)"
   ]
  },
  {
   "cell_type": "code",
   "execution_count": 7,
   "metadata": {},
   "outputs": [
    {
     "name": "stdout",
     "output_type": "stream",
     "text": [
      "411\n"
     ]
    }
   ],
   "source": [
    "n = int(input(\"Digite n:\"))\n",
    "cont = 0\n",
    "for valor in range(3, n+1):\n",
    "    if(valor % 3 == 0):\n",
    "        cont = cont + 1\n",
    "\n",
    "print(cont)"
   ]
  },
  {
   "cell_type": "code",
   "execution_count": 9,
   "metadata": {},
   "outputs": [
    {
     "name": "stdout",
     "output_type": "stream",
     "text": [
      "Fatorial de 5 -> 120\n"
     ]
    }
   ],
   "source": [
    "def fatorial(n):\n",
    "    if(n == 0):\n",
    "        return 1\n",
    "    fat = 1\n",
    "    while(n >= 1):\n",
    "        fat = fat * n\n",
    "        n = n - 1\n",
    "    return fat\n",
    "\n",
    "def fatorial_v2(n):\n",
    "    \n",
    "    if(n == 0):\n",
    "        return 1\n",
    "    valor = 1\n",
    "    fat = 1\n",
    "    while(valor <= n):\n",
    "        fat = fat * valor\n",
    "        valor = valor + 1\n",
    "    return fat\n",
    "\n",
    "def fatorial_v3(n):\n",
    "    if n==0:\n",
    "        return 1\n",
    "    \n",
    "    fat = 1\n",
    "    for valor in range(1, n+1):\n",
    "        fat = fat * valor\n",
    "    return fat\n",
    "\n",
    "\n",
    "    \n",
    "n = int(input(\"Digite n:\"))\n",
    "print(\"Fatorial de\", n, \"->\", fatorial(n))"
   ]
  },
  {
   "cell_type": "code",
   "execution_count": 13,
   "metadata": {},
   "outputs": [
    {
     "name": "stdout",
     "output_type": "stream",
     "text": [
      "*o**\n"
     ]
    }
   ],
   "source": [
    "def tamStr(texto):\n",
    "\n",
    "    cont = 0\n",
    "    for letra in texto:\n",
    "        cont = cont + 1\n",
    "    return cont\n",
    "  \n",
    "\n",
    "def compara(secreta, tentativa):\n",
    "    tam_palavra = tamStr(secreta)\n",
    "    retorno = '' \n",
    "    for pos_letra in range(0, tam_palavra):\n",
    "        if secreta[pos_letra] == tentativa[pos_letra]:\n",
    "            retorno = retorno + secreta[pos_letra]\n",
    "        else:\n",
    "            retorno = retorno + '*'\n",
    "\n",
    "    return retorno\n",
    "\n",
    "p1 = \"Bola\"\n",
    "p2 = \"Voce\"\n",
    "print(compara(p1, p2))\n"
   ]
  },
  {
   "cell_type": "code",
   "execution_count": 15,
   "metadata": {},
   "outputs": [
    {
     "name": "stdout",
     "output_type": "stream",
     "text": [
      "****\n"
     ]
    }
   ],
   "source": [
    "melhor_tentativa = compara('Bola', '****')\n",
    "print(melhor_tentativa)"
   ]
  },
  {
   "cell_type": "code",
   "execution_count": 10,
   "metadata": {},
   "outputs": [
    {
     "name": "stdout",
     "output_type": "stream",
     "text": [
      "oi tudo, bem?\n"
     ]
    }
   ],
   "source": [
    "s = 'oi'\n",
    "s = s + ' tudo, bem?'\n",
    "print(s)"
   ]
  },
  {
   "cell_type": "markdown",
   "metadata": {},
   "source": [
    "# Strings"
   ]
  },
  {
   "cell_type": "code",
   "execution_count": 3,
   "metadata": {},
   "outputs": [
    {
     "name": "stdout",
     "output_type": "stream",
     "text": [
      "nohtyP ytnoM\n"
     ]
    }
   ],
   "source": [
    "s = \"Monty Python\"\n",
    "print(s[-1::-1])"
   ]
  },
  {
   "cell_type": "code",
   "execution_count": 8,
   "metadata": {},
   "outputs": [
    {
     "data": {
      "text/plain": [
       "True"
      ]
     },
     "execution_count": 8,
     "metadata": {},
     "output_type": "execute_result"
    }
   ],
   "source": [
    "s1 = 'banana'\n",
    "s2 = 'Banana'\n",
    "s2.lower() >= s1.lower()\n",
    "s2.upper() >= s1.upper()"
   ]
  },
  {
   "cell_type": "code",
   "execution_count": null,
   "metadata": {},
   "outputs": [],
   "source": [
    "def contaSubStr(s, subs):\n",
    "    idx = s.find(subs)\n",
    "    if idx == -1:\n",
    "        return 0\n",
    "    count = 0\n",
    "    while(s[idx+len(subs):].find(subs) > 0):\n",
    "        count = count + 1\n",
    "        idx = s[idx+len(subs):].find(subs)\n",
    "\n",
    "    return count"
   ]
  },
  {
   "cell_type": "code",
   "execution_count": 11,
   "metadata": {},
   "outputs": [],
   "source": [
    "def contaSubStr(s, subs):\n",
    "    idx = s.find(subs)\n",
    "    count = 0\n",
    "    while(idx >= 0):\n",
    "        count = count + 1\n",
    "        print(s, idx)\n",
    "        s = s[idx+len(subs):]\n",
    "        idx = s.find(subs)\n",
    "    return count\n"
   ]
  },
  {
   "cell_type": "code",
   "execution_count": 13,
   "metadata": {},
   "outputs": [
    {
     "name": "stdout",
     "output_type": "stream",
     "text": [
      "banaiiinainnajhsdhna 2\n",
      "iiinainnajhsdhna 3\n",
      "innajhsdhna 2\n",
      "jhsdhna 5\n",
      "4\n"
     ]
    }
   ],
   "source": [
    "s = \"banaiiinainnajhsdhna\"\n",
    "subs = \"na\"\n",
    "count = contaSubStr(s, subs)\n",
    "print(count)\n"
   ]
  },
  {
   "cell_type": "code",
   "execution_count": 3,
   "metadata": {},
   "outputs": [
    {
     "name": "stdout",
     "output_type": "stream",
     "text": [
      "['a', 'a', 'c', 't', 'a']\n"
     ]
    }
   ],
   "source": [
    "l = ['a', 'b', 'a', 'b', 'c', 't', 'a']\n",
    "item = 'b'\n",
    "\n",
    "while(item in l):\n",
    "    l.remove(item)\n",
    "\n",
    "print(l)"
   ]
  },
  {
   "cell_type": "code",
   "execution_count": 7,
   "metadata": {},
   "outputs": [
    {
     "data": {
      "text/plain": [
       "4"
      ]
     },
     "execution_count": 7,
     "metadata": {},
     "output_type": "execute_result"
    }
   ],
   "source": [
    "t = [9, 41, 12, 3, 12, 15]\n",
    "\n",
    "len(t)-1-t[::-1].index(12)"
   ]
  },
  {
   "cell_type": "code",
   "execution_count": 15,
   "metadata": {},
   "outputs": [
    {
     "name": "stdout",
     "output_type": "stream",
     "text": [
      "[12]\n",
      "[9, 41, [12, 3], 12, 15]\n"
     ]
    }
   ],
   "source": [
    "from copy import deepcopy\n",
    "t = [9, 41, [12, 3], 12, 15]\n",
    "#w = t.copy()\n",
    "w = deepcopy(t)\n",
    "subl = t.pop(2)\n",
    "subl.pop()\n",
    "print(subl)\n",
    "print(w)"
   ]
  },
  {
   "cell_type": "code",
   "execution_count": 3,
   "metadata": {},
   "outputs": [
    {
     "name": "stdout",
     "output_type": "stream",
     "text": [
      "6.0 [6, 8, 10]\n"
     ]
    }
   ],
   "source": [
    "n = int(input(\"Digite n:\"))\n",
    "\n",
    "X = list()\n",
    "for i in range(n):\n",
    "    valor = int(input())\n",
    "    X.append(valor)\n",
    "\n",
    "media = sum(X)/len(X)\n",
    "\n",
    "maiores = [x for x in X if x >= media]\n",
    "\n",
    "print(media, maiores)"
   ]
  },
  {
   "cell_type": "code",
   "execution_count": 25,
   "metadata": {},
   "outputs": [],
   "source": [
    "s1 = \"O \\\"rato\\\", roeu a roupa do rei de Roma.\"\n",
    "s2 = \"Fui a Roma e vi um rato,com roupa. Rato estava bonito!\""
   ]
  },
  {
   "cell_type": "code",
   "execution_count": 26,
   "metadata": {},
   "outputs": [
    {
     "name": "stdout",
     "output_type": "stream",
     "text": [
      "O \"rato\", roeu a roupa do rei de Roma.\n"
     ]
    }
   ],
   "source": [
    "print(s1)"
   ]
  },
  {
   "cell_type": "markdown",
   "metadata": {},
   "source": [
    "Palavra mais frequente em duas strings:"
   ]
  },
  {
   "cell_type": "code",
   "execution_count": 29,
   "metadata": {},
   "outputs": [
    {
     "name": "stdout",
     "output_type": "stream",
     "text": [
      "['o', 'rato', 'roeu', 'a', 'roupa', 'do', 'rei', 'de', 'roma', 'fui', 'a', 'roma', 'e', 'vi', 'um', 'rato', 'com', 'roupa', 'rato', 'estava', 'bonito']\n",
      "rato 3\n"
     ]
    }
   ],
   "source": [
    "\n",
    "def preProcessa(s):\n",
    "    s = s.lower()\n",
    "    pontuacao = \"\\\"',.!:;?\"\n",
    "    for p in pontuacao:\n",
    "        s = s.replace(p, ' ')\n",
    "    return s\n",
    "\n",
    "\n",
    "s1 = preProcessa(s1)\n",
    "s2 = preProcessa(s2)\n",
    "p1 = s1.split()\n",
    "p2 = s2.split()\n",
    "palavras = p1 + p2\n",
    "print(palavras)\n",
    "\n",
    "mais_frequente = palavras[0]\n",
    "maior_contagem = palavras.count(mais_frequente)\n",
    "\n",
    "for p in palavras:\n",
    "    if palavras.count(p) > maior_contagem:\n",
    "        maior_contagem = palavras.count(p)\n",
    "        mais_frequente = p\n",
    "\n",
    "print(mais_frequente, maior_contagem)\n"
   ]
  },
  {
   "cell_type": "code",
   "execution_count": 17,
   "metadata": {},
   "outputs": [
    {
     "name": "stdout",
     "output_type": "stream",
     "text": [
      "RatoRatoRato\n"
     ]
    }
   ],
   "source": [
    "s = \"Rato.Rato...Rato.\"\n",
    "s = s.replace('.', '')\n",
    "print(s)\n"
   ]
  },
  {
   "cell_type": "markdown",
   "metadata": {},
   "source": [
    "Conjunto interseção de duas strings:"
   ]
  },
  {
   "cell_type": "code",
   "execution_count": 37,
   "metadata": {},
   "outputs": [
    {
     "name": "stdout",
     "output_type": "stream",
     "text": [
      "['a', 'roma', 'rato', 'roupa', 'rato']\n",
      "['a', 'roma', 'rato', 'roupa']\n"
     ]
    }
   ],
   "source": [
    "s1 = preProcessa(s1)\n",
    "s2 = preProcessa(s2)\n",
    "p1 = s1.split()\n",
    "p2 = s2.split()\n",
    "s_inte = [p for p in p2 if p in p1]\n",
    "print(s_inte)\n",
    "s_final = list()\n",
    "for p in s_inte:\n",
    "    if p not in s_final:\n",
    "        s_final.append(p)\n",
    "\n",
    "print(s_final)\n"
   ]
  },
  {
   "cell_type": "markdown",
   "metadata": {},
   "source": [
    "Conjunto união de duas strings:"
   ]
  },
  {
   "cell_type": "markdown",
   "metadata": {},
  {
   "cell_type": "code",
   "execution_count": 6,
   "metadata": {},
   "outputs": [],
   "source": [
    "import os\n",
    "nome_arquivo = 'temp.txt'\n",
    "if os.path.exists(nome_arquivo):\n",
    "    f = open(nome_arquivo)\n",
    "else:\n",
    "    print(\"Erro: arquivo\", nome_arquivo, \"nao existe!\")\n"
   ]
  },
  {
   "cell_type": "code",
   "execution_count": 7,
   "metadata": {},
   "outputs": [
    {
     "name": "stdout",
     "output_type": "stream",
     "text": [
      "Ola, \n",
      "\n",
      "\n",
      "\n",
      "\n",
      "\n",
      "Meu nome eh Pedro...\n",
      "\n",
      "\n",
      "\n",
      "\n",
      "\n",
      "\n",
      "\n",
      "Tchau\n",
      "\n",
      "\n",
      "\n",
      "\n",
      "\n",
      "\n",
      "\n",
      "\n"
     ]
    }
   ],
   "source": [
    "for line in f:\n",
    "    print(line)"
   ]
  },
  {
   "cell_type": "code",
   "execution_count": null,
   "metadata": {},
   "outputs": [],
   "source": []
  }
 ],
 "metadata": {
  "kernelspec": {
   "display_name": "base",
   "language": "python",
   "name": "python3"
  },
  "language_info": {
   "codemirror_mode": {
    "name": "ipython",
    "version": 3
   },
   "file_extension": ".py",
   "mimetype": "text/x-python",
   "name": "python",
   "nbconvert_exporter": "python",
   "pygments_lexer": "ipython3",
   "version": "3.8.18"
  }
 },
 "nbformat": 4,
 "nbformat_minor": 2
}
